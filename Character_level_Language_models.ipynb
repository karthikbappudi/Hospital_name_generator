{
  "nbformat": 4,
  "nbformat_minor": 0,
  "metadata": {
    "colab": {
      "name": "Character-level Language models.ipynb",
      "provenance": [],
      "machine_shape": "hm"
    },
    "kernelspec": {
      "name": "python3",
      "display_name": "Python 3"
    }
  },
  "cells": [
    {
      "cell_type": "markdown",
      "metadata": {
        "id": "ll9xXF-hszfO",
        "colab_type": "text"
      },
      "source": [
        "# **Importing dependencies**\n",
        "\n"
      ]
    },
    {
      "cell_type": "code",
      "metadata": {
        "id": "QBg_a7sYVlpP",
        "colab_type": "code",
        "colab": {}
      },
      "source": [
        "import pandas as pd\n",
        "import os\n",
        "import numpy as np\n",
        "from keras.utils import to_categorical\n",
        "from keras.models import Sequential,load_model\n",
        "from keras.layers import Dense,Embedding,LSTM,Dropout\n",
        "from keras.optimizers import Adam\n",
        "from pickle import load\n"
      ],
      "execution_count": 0,
      "outputs": []
    },
    {
      "cell_type": "code",
      "metadata": {
        "id": "un04J9ZNVq2w",
        "colab_type": "code",
        "outputId": "499af386-e87e-4cf9-b189-42e47497330e",
        "colab": {
          "base_uri": "https://localhost:8080/",
          "height": 71
        }
      },
      "source": [
        "# importing text with pandas\n",
        "path = os.getcwd()\n",
        "filepath = os.join.path(path,'hospital_names.txt')\n",
        "df = pd.read_csv(filepath, sep='delimiter', header=None)\n"
      ],
      "execution_count": 133,
      "outputs": [
        {
          "output_type": "stream",
          "text": [
            "/usr/local/lib/python3.6/dist-packages/ipykernel_launcher.py:1: ParserWarning: Falling back to the 'python' engine because the 'c' engine does not support regex separators (separators > 1 char and different from '\\s+' are interpreted as regex); you can avoid this warning by specifying engine='python'.\n",
            "  \"\"\"Entry point for launching an IPython kernel.\n"
          ],
          "name": "stderr"
        }
      ]
    },
    {
      "cell_type": "markdown",
      "metadata": {
        "id": "ba5WGSQy_CF8",
        "colab_type": "text"
      },
      "source": [
        "# **Data Cleaning and Pre-processing**\n",
        "\n",
        "\n",
        "*   Here I am removing all the repeated columns.\n",
        "*   Then the characters are made into a sequence of 5 letters, where 4 characters are the input for the language model and the last character is the output.\n",
        "\n",
        "\n",
        "*   Then these are tokenized.\n",
        "*   And the outputs and inputs are converted to one-hot encoded vectors\n",
        "\n",
        "\n",
        "\n",
        "\n",
        "\n"
      ]
    },
    {
      "cell_type": "code",
      "metadata": {
        "id": "RqChjxAubpoS",
        "colab_type": "code",
        "outputId": "a1893e44-4c73-4f6e-8efa-7ad9232bb3d0",
        "colab": {
          "base_uri": "https://localhost:8080/",
          "height": 119
        }
      },
      "source": [
        "# Removing Duplicate Values\n",
        "df_new = df.drop_duplicates()\n",
        "df_new['duplicates'] = df_new.duplicated()\n",
        "\n",
        "df_new = df_new.drop('duplicates',axis=1)\n"
      ],
      "execution_count": 134,
      "outputs": [
        {
          "output_type": "stream",
          "text": [
            "/usr/local/lib/python3.6/dist-packages/ipykernel_launcher.py:2: SettingWithCopyWarning: \n",
            "A value is trying to be set on a copy of a slice from a DataFrame.\n",
            "Try using .loc[row_indexer,col_indexer] = value instead\n",
            "\n",
            "See the caveats in the documentation: http://pandas.pydata.org/pandas-docs/stable/user_guide/indexing.html#returning-a-view-versus-a-copy\n",
            "  \n"
          ],
          "name": "stderr"
        }
      ]
    },
    {
      "cell_type": "code",
      "metadata": {
        "id": "ob29mA4FaUku",
        "colab_type": "code",
        "colab": {}
      },
      "source": [
        "# Concatenating all the names into a string.\n",
        "string = ' '.join(df_new[0])\n",
        "string\n",
        "string = string.replace(',',' ')\n",
        "string\n",
        "# string_list = string.split(' ')\n"
      ],
      "execution_count": 0,
      "outputs": []
    },
    {
      "cell_type": "code",
      "metadata": {
        "id": "PsM3RdI_fr4J",
        "colab_type": "code",
        "colab": {
          "base_uri": "https://localhost:8080/",
          "height": 1000
        },
        "outputId": "8a9d7af5-281a-45d4-b783-86d597b54fc2"
      },
      "source": [
        "# Getting Unique Characters from the corpous.\n",
        "chars = sorted(list(set(string)))\n",
        "mapping = dict((c,i) for i,c in enumerate(chars))\n",
        "mapping"
      ],
      "execution_count": 215,
      "outputs": [
        {
          "output_type": "execute_result",
          "data": {
            "text/plain": [
              "{' ': 0,\n",
              " '&': 1,\n",
              " \"'\": 2,\n",
              " '(': 3,\n",
              " ')': 4,\n",
              " '-': 5,\n",
              " '.': 6,\n",
              " 'A': 7,\n",
              " 'B': 8,\n",
              " 'C': 9,\n",
              " 'D': 10,\n",
              " 'E': 11,\n",
              " 'F': 12,\n",
              " 'G': 13,\n",
              " 'H': 14,\n",
              " 'I': 15,\n",
              " 'J': 16,\n",
              " 'K': 17,\n",
              " 'L': 18,\n",
              " 'M': 19,\n",
              " 'N': 20,\n",
              " 'O': 21,\n",
              " 'P': 22,\n",
              " 'Q': 23,\n",
              " 'R': 24,\n",
              " 'S': 25,\n",
              " 'T': 26,\n",
              " 'U': 27,\n",
              " 'V': 28,\n",
              " 'W': 29,\n",
              " 'X': 30,\n",
              " 'Y': 31,\n",
              " 'Z': 32,\n",
              " 'a': 33,\n",
              " 'b': 34,\n",
              " 'c': 35,\n",
              " 'd': 36,\n",
              " 'e': 37,\n",
              " 'f': 38,\n",
              " 'g': 39,\n",
              " 'h': 40,\n",
              " 'i': 41,\n",
              " 'j': 42,\n",
              " 'k': 43,\n",
              " 'l': 44,\n",
              " 'm': 45,\n",
              " 'n': 46,\n",
              " 'o': 47,\n",
              " 'p': 48,\n",
              " 'q': 49,\n",
              " 'r': 50,\n",
              " 's': 51,\n",
              " 't': 52,\n",
              " 'u': 53,\n",
              " 'v': 54,\n",
              " 'w': 55,\n",
              " 'x': 56,\n",
              " 'y': 57,\n",
              " 'z': 58,\n",
              " '–': 59}"
            ]
          },
          "metadata": {
            "tags": []
          },
          "execution_count": 215
        }
      ]
    },
    {
      "cell_type": "markdown",
      "metadata": {
        "id": "app1-6VDDMpb",
        "colab_type": "text"
      },
      "source": [
        " **Creating a sequence of characters of length 5, where 4 characters are used as input and last cahracter is used as label for the language model training**\n",
        " "
      ]
    },
    {
      "cell_type": "code",
      "metadata": {
        "id": "-InBhYiAkqlT",
        "colab_type": "code",
        "colab": {}
      },
      "source": [
        "length = 4\n",
        "sequences4 = list()\n",
        "for i in range(length, len(string)):\n",
        "\t\n",
        "\tseq = string[i-length:i+1]\n",
        "\t\n",
        "\tsequences4.append(seq)"
      ],
      "execution_count": 0,
      "outputs": []
    },
    {
      "cell_type": "code",
      "metadata": {
        "id": "R7zkw7xbmoa6",
        "colab_type": "code",
        "colab": {}
      },
      "source": [
        "vocab_size = len(mapping)"
      ],
      "execution_count": 0,
      "outputs": []
    },
    {
      "cell_type": "markdown",
      "metadata": {
        "id": "0TW2wdEgEwK3",
        "colab_type": "text"
      },
      "source": [
        "**Numericalizing the text and converting them into one-hot encoded vectors**"
      ]
    },
    {
      "cell_type": "code",
      "metadata": {
        "id": "lPlgM-02gprr",
        "colab_type": "code",
        "colab": {}
      },
      "source": [
        "sequences = list()\n",
        "for line in sequences4:\n",
        "\t# integer encode line\n",
        "\tencoded_seq = [mapping[char] for char in line]\n",
        "\t# store\n",
        "\tsequences.append(encoded_seq)"
      ],
      "execution_count": 0,
      "outputs": []
    },
    {
      "cell_type": "code",
      "metadata": {
        "id": "EDPZo7q1guha",
        "colab_type": "code",
        "colab": {
          "base_uri": "https://localhost:8080/",
          "height": 102
        },
        "outputId": "e4da8d7b-9299-444c-8a81-3e55591f4ede"
      },
      "source": [
        "sequences[:5]"
      ],
      "execution_count": 181,
      "outputs": [
        {
          "output_type": "execute_result",
          "data": {
            "text/plain": [
              "array([[ 7,  9, 19, 14,  0],\n",
              "       [ 9, 19, 14,  0, 14],\n",
              "       [19, 14,  0, 14, 47],\n",
              "       [14,  0, 14, 47, 51],\n",
              "       [ 0, 14, 47, 51, 48]])"
            ]
          },
          "metadata": {
            "tags": []
          },
          "execution_count": 181
        }
      ]
    },
    {
      "cell_type": "code",
      "metadata": {
        "id": "Ma-iqRPwldPh",
        "colab_type": "code",
        "colab": {}
      },
      "source": [
        "\n",
        "\n",
        "sequences = np.array(sequences)\n",
        "x = sequences[:,:-1]\n",
        "y = sequences[:,-1]"
      ],
      "execution_count": 0,
      "outputs": []
    },
    {
      "cell_type": "code",
      "metadata": {
        "id": "18_OzueLmNaa",
        "colab_type": "code",
        "colab": {}
      },
      "source": [
        "x,y"
      ],
      "execution_count": 0,
      "outputs": []
    },
    {
      "cell_type": "code",
      "metadata": {
        "id": "J3OSOFMemREW",
        "colab_type": "code",
        "colab": {}
      },
      "source": [
        "\n",
        "x = np.array([to_categorical(X,num_classes=vocab_size) for X in x])\n",
        "y = to_categorical(y,num_classes = vocab_size)"
      ],
      "execution_count": 0,
      "outputs": []
    },
    {
      "cell_type": "code",
      "metadata": {
        "id": "svC_uK0dpr0G",
        "colab_type": "code",
        "outputId": "25614b20-fdf3-4c1f-effb-a9652c8c1a70",
        "colab": {
          "base_uri": "https://localhost:8080/",
          "height": 34
        }
      },
      "source": [
        "x.shape"
      ],
      "execution_count": 145,
      "outputs": [
        {
          "output_type": "execute_result",
          "data": {
            "text/plain": [
              "(81587, 4, 60)"
            ]
          },
          "metadata": {
            "tags": []
          },
          "execution_count": 145
        }
      ]
    },
    {
      "cell_type": "markdown",
      "metadata": {
        "id": "71ehSmZ1AGMI",
        "colab_type": "text"
      },
      "source": [
        "# **Training**\n",
        "\n",
        "\n",
        "*   Here I am using LSTM to train the character-level language model.\n",
        "\n",
        "\n",
        "*   I have trained three different models with different hyperparameters, all these models are multi-stacked with two lstm layers and two dense layers.\n",
        "\n",
        "\n",
        "\n",
        "* Best model will be considered for Text generation.\n",
        "\n",
        "\n"
      ]
    },
    {
      "cell_type": "code",
      "metadata": {
        "id": "H7r7wGT89Dbh",
        "colab_type": "code",
        "colab": {}
      },
      "source": [
        "def model(vocab_size, seq_length):\n",
        "  model = Sequential()\n",
        " \n",
        "  model.add (LSTM(50,input_shape=(x.shape[1], x.shape[2]),return_sequences=True))\n",
        "  model.add(Dropout(0.2))\n",
        "\n",
        "  model.add(LSTM(50))\n",
        " \n",
        "  model.add(Dense(50,activation='relu'))\n",
        "  model.add(Dense(vocab_size,activation='softmax'))\n",
        "  optimizer = Adam(lr=0.001)\n",
        "  model.compile(loss='categorical_crossentropy',optimizer=optimizer,metrics=['accuracy'])\n",
        "  model.summary\n",
        "  return model"
      ],
      "execution_count": 0,
      "outputs": []
    },
    {
      "cell_type": "markdown",
      "metadata": {
        "id": "hPIs5xAFYm-O",
        "colab_type": "text"
      },
      "source": [
        "**First model**\n",
        "* Number of epochs = 50\n",
        "* Number of hidden units in LSTM = 50\n"
      ]
    },
    {
      "cell_type": "code",
      "metadata": {
        "id": "y8GGFLjj4i3X",
        "colab_type": "code",
        "colab": {}
      },
      "source": [
        "model = model(vocab_size,4)"
      ],
      "execution_count": 0,
      "outputs": []
    },
    {
      "cell_type": "code",
      "metadata": {
        "id": "3TN3HiozqsYN",
        "colab_type": "code",
        "outputId": "404637a0-6556-49b9-e5a4-47f3c52799eb",
        "colab": {
          "base_uri": "https://localhost:8080/",
          "height": 1000
        }
      },
      "source": [
        "fit1 = model.fit(x,y,epochs=50,verbose=2)"
      ],
      "execution_count": 196,
      "outputs": [
        {
          "output_type": "stream",
          "text": [
            "Epoch 1/50\n",
            " - 26s - loss: 2.1623 - acc: 0.4253\n",
            "Epoch 2/50\n",
            " - 26s - loss: 1.5300 - acc: 0.5778\n",
            "Epoch 3/50\n",
            " - 25s - loss: 1.3819 - acc: 0.6147\n",
            "Epoch 4/50\n",
            " - 25s - loss: 1.2963 - acc: 0.6369\n",
            "Epoch 5/50\n",
            " - 24s - loss: 1.2385 - acc: 0.6544\n",
            "Epoch 6/50\n",
            " - 24s - loss: 1.1898 - acc: 0.6672\n",
            "Epoch 7/50\n",
            " - 24s - loss: 1.1537 - acc: 0.6761\n",
            "Epoch 8/50\n",
            " - 24s - loss: 1.1253 - acc: 0.6844\n",
            "Epoch 9/50\n",
            " - 24s - loss: 1.1018 - acc: 0.6909\n",
            "Epoch 10/50\n",
            " - 25s - loss: 1.0801 - acc: 0.6960\n",
            "Epoch 11/50\n",
            " - 24s - loss: 1.0605 - acc: 0.7018\n",
            "Epoch 12/50\n",
            " - 25s - loss: 1.0486 - acc: 0.7046\n",
            "Epoch 13/50\n",
            " - 26s - loss: 1.0328 - acc: 0.7095\n",
            "Epoch 14/50\n",
            " - 24s - loss: 1.0199 - acc: 0.7121\n",
            "Epoch 15/50\n",
            " - 25s - loss: 1.0096 - acc: 0.7145\n",
            "Epoch 16/50\n",
            " - 25s - loss: 0.9978 - acc: 0.7164\n",
            "Epoch 17/50\n",
            " - 24s - loss: 0.9910 - acc: 0.7183\n",
            "Epoch 18/50\n",
            " - 24s - loss: 0.9838 - acc: 0.7192\n",
            "Epoch 19/50\n",
            " - 24s - loss: 0.9714 - acc: 0.7225\n",
            "Epoch 20/50\n",
            " - 24s - loss: 0.9669 - acc: 0.7237\n",
            "Epoch 21/50\n",
            " - 25s - loss: 0.9591 - acc: 0.7255\n",
            "Epoch 22/50\n",
            " - 25s - loss: 0.9547 - acc: 0.7266\n",
            "Epoch 23/50\n",
            " - 25s - loss: 0.9482 - acc: 0.7281\n",
            "Epoch 24/50\n",
            " - 25s - loss: 0.9417 - acc: 0.7288\n",
            "Epoch 25/50\n",
            " - 26s - loss: 0.9358 - acc: 0.7310\n",
            "Epoch 26/50\n",
            " - 25s - loss: 0.9305 - acc: 0.7318\n",
            "Epoch 27/50\n",
            " - 27s - loss: 0.9267 - acc: 0.7331\n",
            "Epoch 28/50\n",
            " - 25s - loss: 0.9247 - acc: 0.7348\n",
            "Epoch 29/50\n",
            " - 25s - loss: 0.9200 - acc: 0.7338\n",
            "Epoch 30/50\n",
            " - 25s - loss: 0.9139 - acc: 0.7366\n",
            "Epoch 31/50\n",
            " - 25s - loss: 0.9126 - acc: 0.7368\n",
            "Epoch 32/50\n",
            " - 25s - loss: 0.9059 - acc: 0.7383\n",
            "Epoch 33/50\n",
            " - 25s - loss: 0.9059 - acc: 0.7363\n",
            "Epoch 34/50\n",
            " - 25s - loss: 0.8972 - acc: 0.7393\n",
            "Epoch 35/50\n",
            " - 25s - loss: 0.8952 - acc: 0.7389\n",
            "Epoch 36/50\n",
            " - 25s - loss: 0.8926 - acc: 0.7397\n",
            "Epoch 37/50\n",
            " - 25s - loss: 0.8881 - acc: 0.7416\n",
            "Epoch 38/50\n",
            " - 26s - loss: 0.8858 - acc: 0.7416\n",
            "Epoch 39/50\n",
            " - 26s - loss: 0.8841 - acc: 0.7421\n",
            "Epoch 40/50\n",
            " - 25s - loss: 0.8806 - acc: 0.7430\n",
            "Epoch 41/50\n",
            " - 25s - loss: 0.8780 - acc: 0.7435\n",
            "Epoch 42/50\n",
            " - 25s - loss: 0.8754 - acc: 0.7436\n",
            "Epoch 43/50\n",
            " - 25s - loss: 0.8708 - acc: 0.7454\n",
            "Epoch 44/50\n",
            " - 25s - loss: 0.8720 - acc: 0.7444\n",
            "Epoch 45/50\n",
            " - 25s - loss: 0.8688 - acc: 0.7444\n",
            "Epoch 46/50\n",
            " - 25s - loss: 0.8660 - acc: 0.7459\n",
            "Epoch 47/50\n",
            " - 25s - loss: 0.8670 - acc: 0.7451\n",
            "Epoch 48/50\n",
            " - 25s - loss: 0.8627 - acc: 0.7473\n",
            "Epoch 49/50\n",
            " - 25s - loss: 0.8623 - acc: 0.7469\n",
            "Epoch 50/50\n",
            " - 26s - loss: 0.8574 - acc: 0.7493\n"
          ],
          "name": "stdout"
        }
      ]
    },
    {
      "cell_type": "code",
      "metadata": {
        "id": "IZRc9iKlMViO",
        "colab_type": "code",
        "colab": {
          "base_uri": "https://localhost:8080/",
          "height": 34
        },
        "outputId": "3d743a2b-f624-4d5e-8e74-8bf4afca0d33"
      },
      "source": [
        "\n",
        "history_dic = fit1.history\n",
        "history_dic.keys()"
      ],
      "execution_count": 200,
      "outputs": [
        {
          "output_type": "execute_result",
          "data": {
            "text/plain": [
              "dict_keys(['loss', 'acc'])"
            ]
          },
          "metadata": {
            "tags": []
          },
          "execution_count": 200
        }
      ]
    },
    {
      "cell_type": "code",
      "metadata": {
        "id": "vlunhTEBSL4v",
        "colab_type": "code",
        "colab": {}
      },
      "source": [
        "\n",
        "loss_values = history_dic['loss']\n",
        "acc_values = history_dic['acc']\n",
        "epochs = range(1,len(history_dic['acc'])+1)"
      ],
      "execution_count": 0,
      "outputs": []
    },
    {
      "cell_type": "code",
      "metadata": {
        "id": "F7c0vzT-Sb9w",
        "colab_type": "code",
        "colab": {
          "base_uri": "https://localhost:8080/",
          "height": 545
        },
        "outputId": "028bcd67-3638-4e4f-c09b-dd4e6d93a986"
      },
      "source": [
        "\n",
        "plt.plot(epochs, acc_values, 'b', label = 'Accuracy')\n",
        "# plt.plot(epochs, loss_values,'b+', label = 'Loss')\n",
        "plt.title('Accuracy')\n",
        "plt.xticks()\n",
        "plt.ylabel('Accuracy')\n",
        "plt.yticks()\n",
        "plt.legend()\n",
        "plt.show()\n",
        "\n",
        "plt.plot(epochs, loss_values, 'r', label = 'Loss')\n",
        "# plt.plot(epochs, loss_values,'b+', label = 'Loss')\n",
        "plt.title('Loss')\n",
        "plt.xticks()\n",
        "plt.ylabel('Loss')\n",
        "plt.yticks()\n",
        "plt.legend()\n",
        "plt.show()\n",
        "\n"
      ],
      "execution_count": 207,
      "outputs": [
        {
          "output_type": "display_data",
          "data": {
            "image/png": "[encoded data removed]",
            "text/plain": [
              "<Figure size 432x288 with 1 Axes>"
            ]
          },
          "metadata": {
            "tags": []
          }
        },
        {
          "output_type": "display_data",
          "data": {
            "image/png": "[encoded data removed]",
            "text/plain": [
              "<Figure size 432x288 with 1 Axes>"
            ]
          },
          "metadata": {
            "tags": []
          }
        }
      ]
    },
    {
      "cell_type": "markdown",
      "metadata": {
        "id": "GGqhFoHBFP4Z",
        "colab_type": "text"
      },
      "source": [
        "**model 2**\n",
        "\n",
        "* Number of Epochs = 100\n",
        "* Number of Hidden Units in each LSTM = 50"
      ]
    },
    {
      "cell_type": "code",
      "metadata": {
        "id": "ozIZyThzJuAd",
        "colab_type": "code",
        "colab": {}
      },
      "source": [
        "model2 = model(vocab_size,4)"
      ],
      "execution_count": 0,
      "outputs": []
    },
    {
      "cell_type": "code",
      "metadata": {
        "id": "MJ08ohSzK0K0",
        "colab_type": "code",
        "colab": {
          "base_uri": "https://localhost:8080/",
          "height": 1000
        },
        "outputId": "d741fd1d-2044-4514-9631-ea9d9d6c5910"
      },
      "source": [
        "fit2 = model2.fit(x,y,epochs=100,verbose=2)"
      ],
      "execution_count": 213,
      "outputs": [
        {
          "output_type": "stream",
          "text": [
            "Epoch 1/100\n",
            " - 28s - loss: 2.1495 - acc: 0.4268\n",
            "Epoch 2/100\n",
            " - 26s - loss: 1.5283 - acc: 0.5789\n",
            "Epoch 3/100\n",
            " - 25s - loss: 1.3839 - acc: 0.6134\n",
            "Epoch 4/100\n",
            " - 26s - loss: 1.2997 - acc: 0.6359\n",
            "Epoch 5/100\n",
            " - 26s - loss: 1.2391 - acc: 0.6522\n",
            "Epoch 6/100\n",
            " - 25s - loss: 1.1996 - acc: 0.6639\n",
            "Epoch 7/100\n",
            " - 25s - loss: 1.1612 - acc: 0.6727\n",
            "Epoch 8/100\n",
            " - 25s - loss: 1.1300 - acc: 0.6827\n",
            "Epoch 9/100\n",
            " - 26s - loss: 1.1045 - acc: 0.6881\n",
            "Epoch 10/100\n",
            " - 25s - loss: 1.0843 - acc: 0.6936\n",
            "Epoch 11/100\n",
            " - 25s - loss: 1.0691 - acc: 0.6985\n",
            "Epoch 12/100\n",
            " - 25s - loss: 1.0509 - acc: 0.7026\n",
            "Epoch 13/100\n",
            " - 26s - loss: 1.0379 - acc: 0.7057\n",
            "Epoch 14/100\n",
            " - 27s - loss: 1.0223 - acc: 0.7100\n",
            "Epoch 15/100\n",
            " - 25s - loss: 1.0130 - acc: 0.7132\n",
            "Epoch 16/100\n",
            " - 26s - loss: 1.0019 - acc: 0.7157\n",
            "Epoch 17/100\n",
            " - 26s - loss: 0.9938 - acc: 0.7176\n",
            "Epoch 18/100\n",
            " - 26s - loss: 0.9848 - acc: 0.7189\n",
            "Epoch 19/100\n",
            " - 25s - loss: 0.9764 - acc: 0.7203\n",
            "Epoch 20/100\n",
            " - 25s - loss: 0.9691 - acc: 0.7235\n",
            "Epoch 21/100\n",
            " - 25s - loss: 0.9597 - acc: 0.7256\n",
            "Epoch 22/100\n",
            " - 25s - loss: 0.9573 - acc: 0.7265\n",
            "Epoch 23/100\n",
            " - 25s - loss: 0.9499 - acc: 0.7277\n",
            "Epoch 24/100\n",
            " - 25s - loss: 0.9443 - acc: 0.7287\n",
            "Epoch 25/100\n",
            " - 25s - loss: 0.9363 - acc: 0.7312\n",
            "Epoch 26/100\n",
            " - 27s - loss: 0.9342 - acc: 0.7317\n",
            "Epoch 27/100\n",
            " - 24s - loss: 0.9301 - acc: 0.7331\n",
            "Epoch 28/100\n",
            " - 25s - loss: 0.9223 - acc: 0.7343\n",
            "Epoch 29/100\n",
            " - 25s - loss: 0.9180 - acc: 0.7357\n",
            "Epoch 30/100\n",
            " - 25s - loss: 0.9162 - acc: 0.7372\n",
            "Epoch 31/100\n",
            " - 25s - loss: 0.9096 - acc: 0.7376\n",
            "Epoch 32/100\n",
            " - 25s - loss: 0.9088 - acc: 0.7373\n",
            "Epoch 33/100\n",
            " - 25s - loss: 0.9039 - acc: 0.7381\n",
            "Epoch 34/100\n",
            " - 24s - loss: 0.9025 - acc: 0.7383\n",
            "Epoch 35/100\n",
            " - 25s - loss: 0.8986 - acc: 0.7390\n",
            "Epoch 36/100\n",
            " - 25s - loss: 0.8902 - acc: 0.7418\n",
            "Epoch 37/100\n",
            " - 24s - loss: 0.8921 - acc: 0.7418\n",
            "Epoch 38/100\n",
            " - 26s - loss: 0.8883 - acc: 0.7437\n",
            "Epoch 39/100\n",
            " - 25s - loss: 0.8838 - acc: 0.7438\n",
            "Epoch 40/100\n",
            " - 25s - loss: 0.8800 - acc: 0.7448\n",
            "Epoch 41/100\n",
            " - 25s - loss: 0.8782 - acc: 0.7444\n",
            "Epoch 42/100\n",
            " - 25s - loss: 0.8769 - acc: 0.7448\n",
            "Epoch 43/100\n",
            " - 25s - loss: 0.8759 - acc: 0.7443\n",
            "Epoch 44/100\n",
            " - 26s - loss: 0.8725 - acc: 0.7454\n",
            "Epoch 45/100\n",
            " - 25s - loss: 0.8683 - acc: 0.7464\n",
            "Epoch 46/100\n",
            " - 25s - loss: 0.8639 - acc: 0.7482\n",
            "Epoch 47/100\n",
            " - 25s - loss: 0.8653 - acc: 0.7477\n",
            "Epoch 48/100\n",
            " - 25s - loss: 0.8637 - acc: 0.7470\n",
            "Epoch 49/100\n",
            " - 26s - loss: 0.8602 - acc: 0.7488\n",
            "Epoch 50/100\n",
            " - 26s - loss: 0.8575 - acc: 0.7486\n",
            "Epoch 51/100\n",
            " - 28s - loss: 0.8557 - acc: 0.7489\n",
            "Epoch 52/100\n",
            " - 25s - loss: 0.8555 - acc: 0.7489\n",
            "Epoch 53/100\n",
            " - 25s - loss: 0.8521 - acc: 0.7497\n",
            "Epoch 54/100\n",
            " - 25s - loss: 0.8540 - acc: 0.7490\n",
            "Epoch 55/100\n",
            " - 25s - loss: 0.8496 - acc: 0.7505\n",
            "Epoch 56/100\n",
            " - 25s - loss: 0.8488 - acc: 0.7508\n",
            "Epoch 57/100\n",
            " - 25s - loss: 0.8480 - acc: 0.7507\n",
            "Epoch 58/100\n",
            " - 25s - loss: 0.8488 - acc: 0.7512\n",
            "Epoch 59/100\n",
            " - 25s - loss: 0.8445 - acc: 0.7526\n",
            "Epoch 60/100\n",
            " - 25s - loss: 0.8436 - acc: 0.7515\n",
            "Epoch 61/100\n",
            " - 25s - loss: 0.8398 - acc: 0.7533\n",
            "Epoch 62/100\n",
            " - 25s - loss: 0.8397 - acc: 0.7540\n",
            "Epoch 63/100\n",
            " - 27s - loss: 0.8388 - acc: 0.7549\n",
            "Epoch 64/100\n",
            " - 25s - loss: 0.8355 - acc: 0.7546\n",
            "Epoch 65/100\n",
            " - 25s - loss: 0.8378 - acc: 0.7540\n",
            "Epoch 66/100\n",
            " - 25s - loss: 0.8340 - acc: 0.7551\n",
            "Epoch 67/100\n",
            " - 25s - loss: 0.8324 - acc: 0.7552\n",
            "Epoch 68/100\n",
            " - 25s - loss: 0.8297 - acc: 0.7550\n",
            "Epoch 69/100\n",
            " - 25s - loss: 0.8304 - acc: 0.7552\n",
            "Epoch 70/100\n",
            " - 25s - loss: 0.8294 - acc: 0.7548\n",
            "Epoch 71/100\n",
            " - 26s - loss: 0.8263 - acc: 0.7566\n",
            "Epoch 72/100\n",
            " - 25s - loss: 0.8291 - acc: 0.7553\n",
            "Epoch 73/100\n",
            " - 25s - loss: 0.8262 - acc: 0.7563\n",
            "Epoch 74/100\n",
            " - 25s - loss: 0.8240 - acc: 0.7563\n",
            "Epoch 75/100\n",
            " - 27s - loss: 0.8236 - acc: 0.7563\n",
            "Epoch 76/100\n",
            " - 25s - loss: 0.8226 - acc: 0.7567\n",
            "Epoch 77/100\n",
            " - 25s - loss: 0.8235 - acc: 0.7562\n",
            "Epoch 78/100\n",
            " - 25s - loss: 0.8205 - acc: 0.7569\n",
            "Epoch 79/100\n",
            " - 25s - loss: 0.8204 - acc: 0.7567\n",
            "Epoch 80/100\n",
            " - 25s - loss: 0.8192 - acc: 0.7566\n",
            "Epoch 81/100\n",
            " - 25s - loss: 0.8181 - acc: 0.7572\n",
            "Epoch 82/100\n",
            " - 26s - loss: 0.8164 - acc: 0.7586\n",
            "Epoch 83/100\n",
            " - 25s - loss: 0.8149 - acc: 0.7600\n",
            "Epoch 84/100\n",
            " - 25s - loss: 0.8156 - acc: 0.7584\n",
            "Epoch 85/100\n",
            " - 25s - loss: 0.8152 - acc: 0.7593\n",
            "Epoch 86/100\n",
            " - 25s - loss: 0.8147 - acc: 0.7571\n",
            "Epoch 87/100\n",
            " - 28s - loss: 0.8145 - acc: 0.7590\n",
            "Epoch 88/100\n",
            " - 26s - loss: 0.8129 - acc: 0.7583\n",
            "Epoch 89/100\n",
            " - 25s - loss: 0.8110 - acc: 0.7591\n",
            "Epoch 90/100\n",
            " - 27s - loss: 0.8102 - acc: 0.7583\n",
            "Epoch 91/100\n",
            " - 27s - loss: 0.8101 - acc: 0.7589\n",
            "Epoch 92/100\n",
            " - 26s - loss: 0.8099 - acc: 0.7591\n",
            "Epoch 93/100\n",
            " - 26s - loss: 0.8075 - acc: 0.7604\n",
            "Epoch 94/100\n",
            " - 25s - loss: 0.8057 - acc: 0.7609\n",
            "Epoch 95/100\n",
            " - 26s - loss: 0.8099 - acc: 0.7588\n",
            "Epoch 96/100\n",
            " - 26s - loss: 0.8076 - acc: 0.7597\n",
            "Epoch 97/100\n",
            " - 26s - loss: 0.8042 - acc: 0.7601\n",
            "Epoch 98/100\n",
            " - 27s - loss: 0.8038 - acc: 0.7609\n",
            "Epoch 99/100\n",
            " - 30s - loss: 0.8043 - acc: 0.7595\n",
            "Epoch 100/100\n",
            " - 26s - loss: 0.8043 - acc: 0.7614\n"
          ],
          "name": "stdout"
        }
      ]
    },
    {
      "cell_type": "code",
      "metadata": {
        "id": "FeSlQZLygVBW",
        "colab_type": "code",
        "colab": {
          "base_uri": "https://localhost:8080/",
          "height": 545
        },
        "outputId": "719c821a-3d67-4dfa-86a3-cfb45d784b85"
      },
      "source": [
        "history_dic2 = fit2.history\n",
        "history_dic2.keys()\n",
        "loss_values2 = history_dic2['loss']\n",
        "acc_values2 = history_dic2['acc']\n",
        "epochs2 = range(1,len(history_dic2['acc'])+1)\n",
        "\n",
        "\n",
        "plt.plot(epochs2, acc_values2, 'b', label = 'Accuracy')\n",
        "# plt.plot(epochs, loss_values,'b+', label = 'Loss')\n",
        "plt.title('Accuracy')\n",
        "plt.xticks()\n",
        "plt.ylabel('Accuracy')\n",
        "plt.yticks()\n",
        "plt.legend()\n",
        "plt.show()\n",
        "\n",
        "plt.plot(epochs2, loss_values2, 'r', label = 'Loss')\n",
        "# plt.plot(epochs, loss_values,'b+', label = 'Loss')\n",
        "plt.title('Loss')\n",
        "plt.xticks()\n",
        "plt.ylabel('Loss')\n",
        "plt.yticks()\n",
        "plt.legend()\n",
        "plt.show()\n"
      ],
      "execution_count": 218,
      "outputs": [
        {
          "output_type": "display_data",
          "data": {
            "image/png": "[encoded data removed]",
            "text/plain": [
              "<Figure size 432x288 with 1 Axes>"
            ]
          },
          "metadata": {
            "tags": []
          }
        },
        {
          "output_type": "display_data",
          "data": {
            "image/png": "[encoded data removed]",
            "text/plain": [
              "<Figure size 432x288 with 1 Axes>"
            ]
          },
          "metadata": {
            "tags": []
          }
        }
      ]
    },
    {
      "cell_type": "code",
      "metadata": {
        "id": "--vbYIWpg3i2",
        "colab_type": "code",
        "colab": {
          "base_uri": "https://localhost:8080/",
          "height": 34
        },
        "outputId": "ed2bf937-054a-410d-e671-10914d2bf918"
      },
      "source": [
        "vocab_size"
      ],
      "execution_count": 219,
      "outputs": [
        {
          "output_type": "execute_result",
          "data": {
            "text/plain": [
              "60"
            ]
          },
          "metadata": {
            "tags": []
          },
          "execution_count": 219
        }
      ]
    },
    {
      "cell_type": "markdown",
      "metadata": {
        "id": "aynjMfaiFcL3",
        "colab_type": "text"
      },
      "source": [
        "**Model 3**\n",
        "\n",
        "* Number of epochs = 100\n",
        "* Number of hidden units in LSTM = 256\n",
        "\n"
      ]
    },
    {
      "cell_type": "code",
      "metadata": {
        "id": "0iYESfpfhT-h",
        "colab_type": "code",
        "colab": {}
      },
      "source": [
        "def model2(vocab_size, seq_length):\n",
        "  model = Sequential()\n",
        "  # model.add(Embedding(x.shape[2],x.shape[1],input_length=x.shape[1]))\n",
        "  model.add (LSTM(256,input_shape=(x.shape[1], x.shape[2]),return_sequences=True))\n",
        "  model.add(Dropout(0.2))\n",
        "\n",
        "  model.add(LSTM(256))\n",
        "  # model.add(LSTM(50))\n",
        "  model.add(Dense(50,activation='relu'))\n",
        "  model.add(Dense(vocab_size,activation='softmax'))\n",
        "  optimizer = Adam(lr=0.001)\n",
        "  model.compile(loss='categorical_crossentropy',optimizer=optimizer,metrics=['accuracy'])\n",
        "  model.summary\n",
        "  return model"
      ],
      "execution_count": 0,
      "outputs": []
    },
    {
      "cell_type": "code",
      "metadata": {
        "id": "y8k03zcTgvPD",
        "colab_type": "code",
        "colab": {
          "base_uri": "https://localhost:8080/",
          "height": 1000
        },
        "outputId": "08952a4b-aad7-48c0-86d2-0a3e7516dbca"
      },
      "source": [
        "model3 = model2(vocab_size,4)\n",
        "fit3 = model3.fit(x,y,epochs=100,verbose=2)"
      ],
      "execution_count": 222,
      "outputs": [
        {
          "output_type": "stream",
          "text": [
            "Epoch 1/100\n",
            " - 85s - loss: 1.7893 - acc: 0.5198\n",
            "Epoch 2/100\n",
            " - 84s - loss: 1.2562 - acc: 0.6501\n",
            "Epoch 3/100\n",
            " - 85s - loss: 1.1040 - acc: 0.6912\n",
            "Epoch 4/100\n",
            " - 83s - loss: 1.0092 - acc: 0.7151\n",
            "Epoch 5/100\n",
            " - 83s - loss: 0.9423 - acc: 0.7307\n",
            "Epoch 6/100\n",
            " - 83s - loss: 0.8900 - acc: 0.7435\n",
            "Epoch 7/100\n",
            " - 83s - loss: 0.8534 - acc: 0.7516\n",
            "Epoch 8/100\n",
            " - 83s - loss: 0.8226 - acc: 0.7588\n",
            "Epoch 9/100\n",
            " - 83s - loss: 0.7954 - acc: 0.7648\n",
            "Epoch 10/100\n",
            " - 83s - loss: 0.7722 - acc: 0.7715\n",
            "Epoch 11/100\n",
            " - 84s - loss: 0.7535 - acc: 0.7743\n",
            "Epoch 12/100\n",
            " - 83s - loss: 0.7373 - acc: 0.7779\n",
            "Epoch 13/100\n",
            " - 82s - loss: 0.7219 - acc: 0.7822\n",
            "Epoch 14/100\n",
            " - 84s - loss: 0.7100 - acc: 0.7838\n",
            "Epoch 15/100\n",
            " - 83s - loss: 0.7007 - acc: 0.7859\n",
            "Epoch 16/100\n",
            " - 82s - loss: 0.6916 - acc: 0.7890\n",
            "Epoch 17/100\n",
            " - 84s - loss: 0.6840 - acc: 0.7890\n",
            "Epoch 18/100\n",
            " - 84s - loss: 0.6744 - acc: 0.7925\n",
            "Epoch 19/100\n",
            " - 84s - loss: 0.6694 - acc: 0.7938\n",
            "Epoch 20/100\n",
            " - 82s - loss: 0.6634 - acc: 0.7944\n",
            "Epoch 21/100\n",
            " - 83s - loss: 0.6597 - acc: 0.7960\n",
            "Epoch 22/100\n",
            " - 84s - loss: 0.6544 - acc: 0.7968\n",
            "Epoch 23/100\n",
            " - 83s - loss: 0.6493 - acc: 0.7982\n",
            "Epoch 24/100\n",
            " - 83s - loss: 0.6468 - acc: 0.7969\n",
            "Epoch 25/100\n",
            " - 83s - loss: 0.6421 - acc: 0.7981\n",
            "Epoch 26/100\n",
            " - 83s - loss: 0.6391 - acc: 0.7989\n",
            "Epoch 27/100\n",
            " - 82s - loss: 0.6360 - acc: 0.8000\n",
            "Epoch 28/100\n",
            " - 83s - loss: 0.6324 - acc: 0.8014\n",
            "Epoch 29/100\n",
            " - 84s - loss: 0.6302 - acc: 0.7998\n",
            "Epoch 30/100\n",
            " - 83s - loss: 0.6262 - acc: 0.8008\n",
            "Epoch 31/100\n",
            " - 83s - loss: 0.6249 - acc: 0.8014\n",
            "Epoch 32/100\n",
            " - 84s - loss: 0.6238 - acc: 0.8018\n",
            "Epoch 33/100\n",
            " - 84s - loss: 0.6205 - acc: 0.8019\n",
            "Epoch 34/100\n",
            " - 83s - loss: 0.6180 - acc: 0.8026\n",
            "Epoch 35/100\n",
            " - 84s - loss: 0.6168 - acc: 0.8035\n",
            "Epoch 36/100\n",
            " - 85s - loss: 0.6132 - acc: 0.8032\n",
            "Epoch 37/100\n",
            " - 84s - loss: 0.6144 - acc: 0.8023\n",
            "Epoch 38/100\n",
            " - 84s - loss: 0.6115 - acc: 0.8043\n",
            "Epoch 39/100\n",
            " - 83s - loss: 0.6096 - acc: 0.8036\n",
            "Epoch 40/100\n",
            " - 83s - loss: 0.6095 - acc: 0.8033\n",
            "Epoch 41/100\n",
            " - 82s - loss: 0.6053 - acc: 0.8047\n",
            "Epoch 42/100\n",
            " - 82s - loss: 0.6041 - acc: 0.8046\n",
            "Epoch 43/100\n",
            " - 83s - loss: 0.6025 - acc: 0.8051\n",
            "Epoch 44/100\n",
            " - 83s - loss: 0.6023 - acc: 0.8049\n",
            "Epoch 45/100\n",
            " - 82s - loss: 0.6007 - acc: 0.8062\n",
            "Epoch 46/100\n",
            " - 82s - loss: 0.5997 - acc: 0.8050\n",
            "Epoch 47/100\n",
            " - 83s - loss: 0.5975 - acc: 0.8060\n",
            "Epoch 48/100\n",
            " - 83s - loss: 0.5966 - acc: 0.8067\n",
            "Epoch 49/100\n",
            " - 82s - loss: 0.5969 - acc: 0.8054\n",
            "Epoch 50/100\n",
            " - 83s - loss: 0.5937 - acc: 0.8068\n",
            "Epoch 51/100\n",
            " - 82s - loss: 0.5946 - acc: 0.8059\n",
            "Epoch 52/100\n",
            " - 83s - loss: 0.5918 - acc: 0.8070\n",
            "Epoch 53/100\n",
            " - 82s - loss: 0.5926 - acc: 0.8066\n",
            "Epoch 54/100\n",
            " - 82s - loss: 0.5919 - acc: 0.8066\n",
            "Epoch 55/100\n",
            " - 82s - loss: 0.5907 - acc: 0.8069\n",
            "Epoch 56/100\n",
            " - 82s - loss: 0.5899 - acc: 0.8076\n",
            "Epoch 57/100\n",
            " - 82s - loss: 0.5887 - acc: 0.8074\n",
            "Epoch 58/100\n",
            " - 83s - loss: 0.5879 - acc: 0.8071\n",
            "Epoch 59/100\n",
            " - 83s - loss: 0.5859 - acc: 0.8069\n",
            "Epoch 60/100\n",
            " - 83s - loss: 0.5870 - acc: 0.8067\n",
            "Epoch 61/100\n",
            " - 83s - loss: 0.5864 - acc: 0.8076\n",
            "Epoch 62/100\n",
            " - 83s - loss: 0.5854 - acc: 0.8073\n",
            "Epoch 63/100\n",
            " - 83s - loss: 0.5844 - acc: 0.8077\n",
            "Epoch 64/100\n",
            " - 83s - loss: 0.5840 - acc: 0.8078\n",
            "Epoch 65/100\n",
            " - 83s - loss: 0.5847 - acc: 0.8074\n",
            "Epoch 66/100\n",
            " - 82s - loss: 0.5817 - acc: 0.8069\n",
            "Epoch 67/100\n",
            " - 82s - loss: 0.5810 - acc: 0.8077\n",
            "Epoch 68/100\n",
            " - 82s - loss: 0.5808 - acc: 0.8076\n",
            "Epoch 69/100\n",
            " - 82s - loss: 0.5800 - acc: 0.8081\n",
            "Epoch 70/100\n",
            " - 82s - loss: 0.5794 - acc: 0.8087\n",
            "Epoch 71/100\n",
            " - 82s - loss: 0.5769 - acc: 0.8095\n",
            "Epoch 72/100\n",
            " - 82s - loss: 0.5771 - acc: 0.8077\n",
            "Epoch 73/100\n",
            " - 82s - loss: 0.5780 - acc: 0.8076\n",
            "Epoch 74/100\n",
            " - 83s - loss: 0.5775 - acc: 0.8082\n",
            "Epoch 75/100\n",
            " - 83s - loss: 0.5758 - acc: 0.8096\n",
            "Epoch 76/100\n",
            " - 83s - loss: 0.5748 - acc: 0.8094\n",
            "Epoch 77/100\n",
            " - 83s - loss: 0.5762 - acc: 0.8082\n",
            "Epoch 78/100\n",
            " - 82s - loss: 0.5751 - acc: 0.8089\n",
            "Epoch 79/100\n",
            " - 82s - loss: 0.5760 - acc: 0.8090\n",
            "Epoch 80/100\n",
            " - 83s - loss: 0.5748 - acc: 0.8087\n",
            "Epoch 81/100\n",
            " - 82s - loss: 0.5744 - acc: 0.8090\n",
            "Epoch 82/100\n",
            " - 82s - loss: 0.5730 - acc: 0.8086\n",
            "Epoch 83/100\n",
            " - 81s - loss: 0.5721 - acc: 0.8091\n",
            "Epoch 84/100\n",
            " - 81s - loss: 0.5723 - acc: 0.8090\n",
            "Epoch 85/100\n",
            " - 81s - loss: 0.5733 - acc: 0.8089\n",
            "Epoch 86/100\n",
            " - 81s - loss: 0.5711 - acc: 0.8094\n",
            "Epoch 87/100\n",
            " - 81s - loss: 0.5719 - acc: 0.8087\n",
            "Epoch 88/100\n",
            " - 82s - loss: 0.5706 - acc: 0.8104\n",
            "Epoch 89/100\n",
            " - 81s - loss: 0.5711 - acc: 0.8092\n",
            "Epoch 90/100\n",
            " - 82s - loss: 0.5708 - acc: 0.8091\n",
            "Epoch 91/100\n",
            " - 81s - loss: 0.5701 - acc: 0.8093\n",
            "Epoch 92/100\n",
            " - 82s - loss: 0.5688 - acc: 0.8093\n",
            "Epoch 93/100\n",
            " - 82s - loss: 0.5688 - acc: 0.8101\n",
            "Epoch 94/100\n",
            " - 82s - loss: 0.5696 - acc: 0.8093\n",
            "Epoch 95/100\n",
            " - 82s - loss: 0.5688 - acc: 0.8101\n",
            "Epoch 96/100\n",
            " - 81s - loss: 0.5675 - acc: 0.8093\n",
            "Epoch 97/100\n",
            " - 81s - loss: 0.5666 - acc: 0.8096\n",
            "Epoch 98/100\n",
            " - 81s - loss: 0.5668 - acc: 0.8101\n",
            "Epoch 99/100\n",
            " - 82s - loss: 0.5685 - acc: 0.8103\n",
            "Epoch 100/100\n",
            " - 81s - loss: 0.5654 - acc: 0.8103\n"
          ],
          "name": "stdout"
        }
      ]
    },
    {
      "cell_type": "code",
      "metadata": {
        "id": "92uLbfJ4hDsH",
        "colab_type": "code",
        "colab": {
          "base_uri": "https://localhost:8080/",
          "height": 545
        },
        "outputId": "fbf665fe-ba3f-40f9-d3f6-aa4196ce2225"
      },
      "source": [
        "history_dic3 = fit3.history\n",
        "history_dic3.keys()\n",
        "loss_values3 = history_dic3['loss']\n",
        "acc_values3 = history_dic3['acc']\n",
        "epochs3 = range(1,len(history_dic3['acc'])+1)\n",
        "\n",
        "\n",
        "plt.plot(epochs3, acc_values3, 'b', label = 'Accuracy')\n",
        "# plt.plot(epochs, loss_values,'b+', label = 'Loss')\n",
        "plt.title('Accuracy')\n",
        "plt.xticks()\n",
        "plt.ylabel('Accuracy')\n",
        "plt.yticks()\n",
        "plt.legend()\n",
        "plt.show()\n",
        "\n",
        "plt.plot(epochs3, loss_values3, 'r', label = 'Loss')\n",
        "# plt.plot(epochs, loss_values,'b+', label = 'Loss')\n",
        "plt.title('Loss')\n",
        "plt.xticks()\n",
        "plt.ylabel('Loss')\n",
        "plt.yticks()\n",
        "plt.legend()\n",
        "plt.show()\n"
      ],
      "execution_count": 223,
      "outputs": [
        {
          "output_type": "display_data",
          "data": {
            "image/png": "[encoded data removed]",
            "text/plain": [
              "<Figure size 432x288 with 1 Axes>"
            ]
          },
          "metadata": {
            "tags": []
          }
        },
        {
          "output_type": "display_data",
          "data": {
            "image/png": "[encoded data removed]",
            "text/plain": [
              "<Figure size 432x288 with 1 Axes>"
            ]
          },
          "metadata": {
            "tags": []
          }
        }
      ]
    },
    {
      "cell_type": "code",
      "metadata": {
        "id": "XWYZ21AJKaec",
        "colab_type": "code",
        "colab": {
          "base_uri": "https://localhost:8080/",
          "height": 34
        },
        "outputId": "e3709857-5aaa-4ab6-c3ef-9e22514106bc"
      },
      "source": [
        "len(mapping)"
      ],
      "execution_count": 216,
      "outputs": [
        {
          "output_type": "execute_result",
          "data": {
            "text/plain": [
              "60"
            ]
          },
          "metadata": {
            "tags": []
          },
          "execution_count": 216
        }
      ]
    },
    {
      "cell_type": "markdown",
      "metadata": {
        "id": "3urt-RKWAdZR",
        "colab_type": "text"
      },
      "source": [
        "**Saving the model and Vocabulary**"
      ]
    },
    {
      "cell_type": "code",
      "metadata": {
        "id": "6zQ3skX7z7qV",
        "colab_type": "code",
        "colab": {}
      },
      "source": [
        "from pickle import dump\n",
        "# Saving the model.\n",
        "model3.save('/content/drive/My Drive/model3.h5')\n",
        "# Saving the Vocabulary\n",
        "dump(mapping,open('/content/drive/My Drive/mapping.pkl','wb'))"
      ],
      "execution_count": 0,
      "outputs": []
    },
    {
      "cell_type": "markdown",
      "metadata": {
        "id": "gmqIz9MClWrp",
        "colab_type": "text"
      },
      "source": [
        "# **Text Generation**\n",
        "* First step is to load the pre-trained model and vocabulary"
      ]
    },
    {
      "cell_type": "code",
      "metadata": {
        "id": "unPrkTyHUP9C",
        "colab_type": "code",
        "colab": {}
      },
      "source": [
        "\n",
        "\n",
        "path = os.getcwd()\n",
        "model_path = os.path.join(path,'model3.h5')\n",
        "model_new = load_model(model_path,)\n",
        "vocab_path = os.path.join(path,'mapping.pkl')\n",
        "vocab = load(open(vocab_path,'rb'))"
      ],
      "execution_count": 0,
      "outputs": []
    },
    {
      "cell_type": "code",
      "metadata": {
        "id": "fR8egG8wBv7p",
        "colab_type": "code",
        "colab": {}
      },
      "source": [
        ""
      ],
      "execution_count": 0,
      "outputs": []
    },
    {
      "cell_type": "code",
      "metadata": {
        "id": "bL7OedQ09W3O",
        "colab_type": "code",
        "colab": {}
      },
      "source": [
        "\n",
        "def hospital_name_generator(model, vocabulary, seq_length, input_text, max_chars):\n",
        "\tin_text = input_text\n",
        "\tfor n in range(max_chars):\n",
        "\t\t# creating one-hot encoded vector of the input\n",
        "\t\tencoded = [vocabulary[char] for char in in_text]\n",
        "\t\tencoded = pad_sequences([encoded], maxlen=seq_length, truncating='pre')\n",
        "\t\tencoded = to_categorical(encoded, num_classes=len(vocabulary))\n",
        "\t\t# predict character\n",
        "\t\tyhat = model.predict_classes(encoded, verbose=0)\n",
        "\t\t# from integer to character.\n",
        "\t\tout_char = ''\n",
        "\t\tfor char, index in vocabulary.items():\n",
        "\t\t\tif index == yhat:\n",
        "\t\t\t\tout_char = char\n",
        "\t\t\t\tbreak\n",
        "\t\t# append to input\n",
        "\t\tin_text += char\n",
        "\treturn in_text"
      ],
      "execution_count": 0,
      "outputs": []
    },
    {
      "cell_type": "markdown",
      "metadata": {
        "id": "yXBnLK53HylQ",
        "colab_type": "text"
      },
      "source": [
        "#**Testing**\n",
        "\n",
        "**Please assing the any four letters to the input_text. The model Should Return a new Hospital Name, which is 20 Characters of length.**"
      ]
    },
    {
      "cell_type": "markdown",
      "metadata": {
        "id": "qC9mdpQxIr_C",
        "colab_type": "text"
      },
      "source": [
        "**Example 1**\n"
      ]
    },
    {
      "cell_type": "code",
      "metadata": {
        "id": "ewDitgYm9hEr",
        "colab_type": "code",
        "outputId": "a2afe6c6-bbe8-4c21-835e-5ff07a3115eb",
        "colab": {
          "base_uri": "https://localhost:8080/",
          "height": 34
        }
      },
      "source": [
        "input_text = 'Amul'# Enter the 4 input Characters Here\n",
        "model = model3\n",
        "\n",
        "result = generate_seq(model,vocab,4,input_text,20)\n",
        "result\n"
      ],
      "execution_count": 250,
      "outputs": [
        {
          "output_type": "execute_result",
          "data": {
            "text/plain": [
              "'Amulbert Worth Hospital '"
            ]
          },
          "metadata": {
            "tags": []
          },
          "execution_count": 250
        }
      ]
    },
    {
      "cell_type": "markdown",
      "metadata": {
        "id": "Rf5j7gj-I2e4",
        "colab_type": "text"
      },
      "source": [
        "**Example 2**\n"
      ]
    },
    {
      "cell_type": "code",
      "metadata": {
        "id": "C9Yob7HrIm9E",
        "colab_type": "code",
        "colab": {
          "base_uri": "https://localhost:8080/",
          "height": 34
        },
        "outputId": "f80a15c9-41a3-443b-b392-dc3d25738237"
      },
      "source": [
        "input_text = 'Bolr'# Enter the 4 input Characters Here\n",
        "model = model3\n",
        "\n",
        "result = generate_seq(model,vocab,4,input_text,20)\n",
        "result\n"
      ],
      "execution_count": 251,
      "outputs": [
        {
          "output_type": "execute_result",
          "data": {
            "text/plain": [
              "'Bolr Medical Center St. '"
            ]
          },
          "metadata": {
            "tags": []
          },
          "execution_count": 251
        }
      ]
    },
    {
      "cell_type": "markdown",
      "metadata": {
        "id": "UWA1dpS-I5VD",
        "colab_type": "text"
      },
      "source": [
        "****Example 3****"
      ]
    },
    {
      "cell_type": "code",
      "metadata": {
        "id": "DiKq0i4EInIx",
        "colab_type": "code",
        "colab": {
          "base_uri": "https://localhost:8080/",
          "height": 34
        },
        "outputId": "1ed7808b-f216-4778-9552-5af015697d9b"
      },
      "source": [
        "input_text = 'Care'# Enter the 4 input Characters Here\n",
        "model = model3\n",
        "\n",
        "generate_seq(model,vocab,4,input_text,20)\n",
        "\n"
      ],
      "execution_count": 253,
      "outputs": [
        {
          "output_type": "execute_result",
          "data": {
            "text/plain": [
              "'Care System - Mercy Hosp'"
            ]
          },
          "metadata": {
            "tags": []
          },
          "execution_count": 253
        }
      ]
    },
    {
      "cell_type": "markdown",
      "metadata": {
        "id": "wZGOw_uKJR-i",
        "colab_type": "text"
      },
      "source": [
        "**Testing**"
      ]
    },
    {
      "cell_type": "code",
      "metadata": {
        "id": "Kf04gxdYJQLU",
        "colab_type": "code",
        "colab": {}
      },
      "source": [
        "input_text = ''# Enter the 4 input Characters Here\n",
        "model = model3\n",
        "\n",
        "generate_seq(model,vocab,4,input_text,20)\n"
      ],
      "execution_count": 0,
      "outputs": []
    }
  ]
}